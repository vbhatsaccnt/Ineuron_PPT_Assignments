{
 "cells": [
  {
   "cell_type": "markdown",
   "id": "167120ed",
   "metadata": {},
   "source": [
    "\n",
    "💡 1. **Roman to Integer**\n",
    "\n",
    "Roman numerals are represented by seven different symbols: `I`, `V`, `X`, `L`, `C`, `D` and `M`.\n",
    "\n",
    "```\n",
    "SymbolValue\n",
    "I             1\n",
    "V             5\n",
    "X             10\n",
    "L             50\n",
    "C             100\n",
    "D             500\n",
    "M             1000\n",
    "```\n",
    "\n",
    "For example, `2` is written as `II` in Roman numeral, just two ones added together. `12` is written as `XII`, which is simply `X + II`. The number `27` is written as `XXVII`, which is `XX + V + II`.\n",
    "\n",
    "Roman numerals are usually written largest to smallest from left to right. However, the numeral for four is not `IIII`. Instead, the number four is written as `IV`. Because the one is before the five we subtract it making four. The same principle applies to the number nine, which is written as `IX`. There are six instances where subtraction is used:\n",
    "\n",
    "- `I` can be placed before `V` (5) and `X` (10) to make 4 and 9.\n",
    "- `X` can be placed before `L` (50) and `C` (100) to make 40 and 90.\n",
    "- `C` can be placed before `D` (500) and `M` (1000) to make 400 and 900.\n",
    "\n",
    "Given a roman numeral, convert it to an integer.\n",
    "\n",
    "</aside>"
   ]
  },
  {
   "cell_type": "code",
   "execution_count": 1,
   "id": "c44ace9c",
   "metadata": {},
   "outputs": [],
   "source": [
    "def roman_to_int(s):\n",
    "    roman_values = {\n",
    "        'I': 1,\n",
    "        'V': 5,\n",
    "        'X': 10,\n",
    "        'L': 50,\n",
    "        'C': 100,\n",
    "        'D': 500,\n",
    "        'M': 1000\n",
    "    }\n",
    "    total = 0\n",
    "    i = 0\n",
    "\n",
    "    while i < len(s):\n",
    "        if i + 1 < len(s) and roman_values[s[i]] < roman_values[s[i + 1]]:\n",
    "            total += roman_values[s[i + 1]] - roman_values[s[i]]\n",
    "            i += 2\n",
    "        else:\n",
    "            total += roman_values[s[i]]\n",
    "            i += 1\n",
    "\n",
    "    return total\n"
   ]
  },
  {
   "cell_type": "code",
   "execution_count": 2,
   "id": "7608034d",
   "metadata": {},
   "outputs": [
    {
     "name": "stdout",
     "output_type": "stream",
     "text": [
      "3\n",
      "4\n",
      "9\n",
      "58\n",
      "1994\n"
     ]
    }
   ],
   "source": [
    "print(roman_to_int('III'))  # Output: 3\n",
    "print(roman_to_int('IV'))   # Output: 4\n",
    "print(roman_to_int('IX'))   # Output: 9\n",
    "print(roman_to_int('LVIII'))  # Output: 58\n",
    "print(roman_to_int('MCMXCIV'))  # Output: 1994\n"
   ]
  },
  {
   "cell_type": "code",
   "execution_count": null,
   "id": "66a9912e",
   "metadata": {},
   "outputs": [],
   "source": []
  },
  {
   "cell_type": "markdown",
   "id": "6b4ba7be",
   "metadata": {},
   "source": [
    "\n",
    "💡 2. **Longest Substring Without Repeating Characters**\n",
    "\n",
    "Given a string `s`, find the length of the **longest substring** without repeating characters.\n",
    "\n",
    "**Example 1:**\n",
    "\n",
    "```\n",
    "Input: s = \"abcabcbb\"\n",
    "Output: 3\n",
    "Explanation: The answer is \"abc\", with the length of 3.\n",
    "```\n",
    "\n",
    "**Example 2:**\n",
    "\n",
    "```\n",
    "Input: s = \"bbbbb\"\n",
    "Output: 1\n",
    "Explanation: The answer is \"b\", with the length of 1.\n",
    "```\n",
    "\n",
    "**Example 3:**\n",
    "\n",
    "```\n",
    "Input: s = \"pwwkew\"\n",
    "Output: 3\n",
    "Explanation: The answer is \"wke\", with the length of 3.\n",
    "Notice that the answer must be a substring, \"pwke\" is a subsequence and not a substring.\n",
    "```\n",
    "\n",
    "**Constraints:**\n",
    "\n",
    "- `0 <= s.length <= 50000`\n",
    "- `s` consists of English letters, digits, symbols and spaces.\n",
    "</aside>"
   ]
  },
  {
   "cell_type": "code",
   "execution_count": 3,
   "id": "69d4c61f",
   "metadata": {},
   "outputs": [],
   "source": [
    "def length_of_longest_substring(s):\n",
    "    start = 0\n",
    "    end = 0\n",
    "    max_length = 0\n",
    "    seen = set()\n",
    "\n",
    "    while end < len(s):\n",
    "        if s[end] not in seen:\n",
    "            seen.add(s[end])\n",
    "            end += 1\n",
    "            max_length = max(max_length, end - start)\n",
    "        else:\n",
    "            seen.remove(s[start])\n",
    "            start += 1\n",
    "\n",
    "    return max_length\n"
   ]
  },
  {
   "cell_type": "code",
   "execution_count": 4,
   "id": "87596432",
   "metadata": {},
   "outputs": [
    {
     "name": "stdout",
     "output_type": "stream",
     "text": [
      "3\n"
     ]
    }
   ],
   "source": [
    "print(length_of_longest_substring(\"abcabcbb\"))  # Output: 3\n"
   ]
  },
  {
   "cell_type": "markdown",
   "id": "3e7bb575",
   "metadata": {},
   "source": [
    "\n",
    "💡 3. **Majority Element**\n",
    "\n",
    "Given an array `nums` of size `n`, return *the majority element*.\n",
    "\n",
    "The majority element is the element that appears more than `⌊n / 2⌋` times. You may assume that the majority element always exists in the array.\n",
    "\n",
    "**Example 1:**\n",
    "\n",
    "```\n",
    "Input: nums = [3,2,3]\n",
    "Output: 3\n",
    "```\n",
    "\n",
    "**Example 2:**\n",
    "\n",
    "```\n",
    "Input: nums = [2,2,1,1,1,2,2]\n",
    "Output: 2\n",
    "```\n",
    "\n",
    "**Constraints:**\n",
    "\n",
    "- `n == nums.length`\n",
    "- `1 <= n <= 5 * 10^4`\n",
    "- `-10^9 <= nums[i] <= 10^9`\n",
    "</aside>"
   ]
  },
  {
   "cell_type": "code",
   "execution_count": 5,
   "id": "5625be2c",
   "metadata": {},
   "outputs": [],
   "source": [
    "def majority_element(nums):\n",
    "    majority = nums[0]\n",
    "    count = 1\n",
    "\n",
    "    for i in range(1, len(nums)):\n",
    "        if nums[i] == majority:\n",
    "            count += 1\n",
    "        else:\n",
    "            count -= 1\n",
    "\n",
    "            if count == 0:\n",
    "                majority = nums[i]\n",
    "                count = 1\n",
    "\n",
    "    return majority\n"
   ]
  },
  {
   "cell_type": "code",
   "execution_count": 6,
   "id": "089a9cc5",
   "metadata": {},
   "outputs": [
    {
     "name": "stdout",
     "output_type": "stream",
     "text": [
      "3\n"
     ]
    }
   ],
   "source": [
    "print(majority_element([3, 2, 3]))  # Output: 3\n"
   ]
  },
  {
   "cell_type": "markdown",
   "id": "9b01eecb",
   "metadata": {},
   "source": [
    "\n",
    "💡 4. **Group Anagram**\n",
    "\n",
    "Given an array of strings `strs`, group **the anagrams** together. You can return the answer in **any order**.\n",
    "\n",
    "An **Anagram** is a word or phrase formed by rearranging the letters of a different word or phrase, typically using all the original letters exactly once.\n",
    "\n",
    "**Example 1:**\n",
    "\n",
    "```\n",
    "Input: strs = [\"eat\",\"tea\",\"tan\",\"ate\",\"nat\",\"bat\"]\n",
    "Output: [[\"bat\"],[\"nat\",\"tan\"],[\"ate\",\"eat\",\"tea\"]]\n",
    "```\n",
    "\n",
    "**Example 2:**\n",
    "\n",
    "```\n",
    "Input: strs = [\"\"]\n",
    "Output: [[\"\"]]\n",
    "```\n",
    "\n",
    "**Example 3:**\n",
    "\n",
    "```\n",
    "Input: strs = [\"a\"]\n",
    "Output: [[\"a\"]]\n",
    "```\n",
    "\n",
    "**Constraints:**\n",
    "\n",
    "- `1 <= strs.length <= 10000`\n",
    "- `0 <= strs[i].length <= 100`\n",
    "- `strs[i]` consists of lowercase English letters.\n",
    "</aside>"
   ]
  },
  {
   "cell_type": "code",
   "execution_count": 7,
   "id": "afe0c4bd",
   "metadata": {},
   "outputs": [],
   "source": [
    "from collections import defaultdict\n",
    "\n",
    "def group_anagrams(strs):\n",
    "    anagram_groups = defaultdict(list)\n",
    "\n",
    "    for word in strs:\n",
    "        sorted_word = ''.join(sorted(word))\n",
    "        anagram_groups[sorted_word].append(word)\n",
    "\n",
    "    return list(anagram_groups.values())\n"
   ]
  },
  {
   "cell_type": "code",
   "execution_count": 8,
   "id": "42a964be",
   "metadata": {},
   "outputs": [
    {
     "name": "stdout",
     "output_type": "stream",
     "text": [
      "[['eat', 'tea', 'ate'], ['tan', 'nat'], ['bat']]\n"
     ]
    }
   ],
   "source": [
    "strs = [\"eat\", \"tea\", \"tan\", \"ate\", \"nat\", \"bat\"]\n",
    "print(group_anagrams(strs))\n",
    "# Output: [[\"eat\", \"tea\", \"ate\"], [\"tan\", \"nat\"], [\"bat\"]]\n"
   ]
  },
  {
   "cell_type": "markdown",
   "id": "bf97b9e2",
   "metadata": {},
   "source": [
    "\n",
    "💡 5. **Ugly Numbers**\n",
    "\n",
    "An **ugly number** is a positive integer whose prime factors are limited to `2`, `3`, and `5`.\n",
    "\n",
    "Given an integer `n`, return *the* `nth` ***ugly number***.\n",
    "\n",
    "**Example 1:**\n",
    "\n",
    "```\n",
    "Input: n = 10\n",
    "Output: 12\n",
    "Explanation: [1, 2, 3, 4, 5, 6, 8, 9, 10, 12] is the sequence of the first 10 ugly numbers.\n",
    "```\n",
    "\n",
    "**Example 2:**\n",
    "\n",
    "```\n",
    "Input: n = 1\n",
    "Output: 1\n",
    "Explanation: 1 has no prime factors, therefore all of its prime factors are limited to 2, 3, and 5.\n",
    "```\n",
    "\n",
    "**Constraints:**\n",
    "\n",
    "- `1 <= n <= 1690`\n",
    "</aside>"
   ]
  },
  {
   "cell_type": "code",
   "execution_count": 9,
   "id": "6520b573",
   "metadata": {},
   "outputs": [],
   "source": [
    "def nth_ugly_number(n):\n",
    "    ugly = [0] * n\n",
    "    ugly[0] = 1\n",
    "    p2 = p3 = p5 = 0\n",
    "\n",
    "    for i in range(1, n):\n",
    "        next_ugly = min(ugly[p2] * 2, ugly[p3] * 3, ugly[p5] * 5)\n",
    "        ugly[i] = next_ugly\n",
    "\n",
    "        if next_ugly == ugly[p2] * 2:\n",
    "            p2 += 1\n",
    "        if next_ugly == ugly[p3] * 3:\n",
    "            p3 += 1\n",
    "        if next_ugly == ugly[p5] * 5:\n",
    "            p5 += 1\n",
    "\n",
    "    return ugly[n - 1]\n"
   ]
  },
  {
   "cell_type": "code",
   "execution_count": 10,
   "id": "decf9389",
   "metadata": {},
   "outputs": [
    {
     "name": "stdout",
     "output_type": "stream",
     "text": [
      "12\n"
     ]
    }
   ],
   "source": [
    "print(nth_ugly_number(10))  # Output: 12\n"
   ]
  },
  {
   "cell_type": "markdown",
   "id": "4d3bf414",
   "metadata": {},
   "source": [
    "\n",
    "💡 6. **Top K Frequent Words**\n",
    "\n",
    "Given an array of strings `words` and an integer `k`, return *the* `k` *most frequent strings*.\n",
    "\n",
    "Return the answer **sorted** by **the frequency** from highest to lowest. Sort the words with the same frequency by their **lexicographical order**.\n",
    "\n",
    "**Example 1:**\n",
    "\n",
    "```\n",
    "Input: words = [\"i\",\"love\",\"leetcode\",\"i\",\"love\",\"coding\"], k = 2\n",
    "Output: [\"i\",\"love\"]\n",
    "Explanation: \"i\" and \"love\" are the two most frequent words.\n",
    "Note that \"i\" comes before \"love\" due to a lower alphabetical order.\n",
    "```\n",
    "\n",
    "**Example 2:**\n",
    "\n",
    "```\n",
    "Input: words = [\"the\",\"day\",\"is\",\"sunny\",\"the\",\"the\",\"the\",\"sunny\",\"is\",\"is\"], k = 4\n",
    "Output: [\"the\",\"is\",\"sunny\",\"day\"]\n",
    "Explanation: \"the\", \"is\", \"sunny\" and \"day\" are the four most frequent words, with the number of occurrence being 4, 3, 2 and 1 respectively.\n",
    "```\n",
    "\n",
    "**Constraints:**\n",
    "\n",
    "- `1 <= words.length <= 500`\n",
    "- `1 <= words[i].length <= 10`\n",
    "- `words[i]` consists of lowercase English letters.\n",
    "- `k` is in the range `[1, The number of **unique** words[i]]`\n",
    "</aside>"
   ]
  },
  {
   "cell_type": "code",
   "execution_count": 11,
   "id": "e674b82a",
   "metadata": {},
   "outputs": [],
   "source": [
    "from collections import defaultdict\n",
    "\n",
    "def top_k_frequent_words(words, k):\n",
    "    word_count = defaultdict(int)\n",
    "\n",
    "    for word in words:\n",
    "        word_count[word] += 1\n",
    "\n",
    "    frequency_words = [(word, count) for word, count in word_count.items()]\n",
    "\n",
    "    # Sort the words by frequency (in descending order) and lexicographically\n",
    "    frequency_words.sort(key=lambda x: (-x[1], x[0]))\n",
    "\n",
    "    # Extract the top k words\n",
    "    result = [word for word, _ in frequency_words[:k]]\n",
    "\n",
    "    return result\n"
   ]
  },
  {
   "cell_type": "code",
   "execution_count": 12,
   "id": "32f8d8f8",
   "metadata": {},
   "outputs": [
    {
     "name": "stdout",
     "output_type": "stream",
     "text": [
      "['the', 'is']\n"
     ]
    }
   ],
   "source": [
    "words = [\"the\", \"day\", \"is\", \"sunny\", \"the\", \"the\", \"the\", \"sunny\", \"is\", \"is\"]\n",
    "k = 2\n",
    "print(top_k_frequent_words(words, k))\n",
    "# Output: [\"the\", \"is\"]\n"
   ]
  },
  {
   "cell_type": "markdown",
   "id": "cede3bee",
   "metadata": {},
   "source": [
    "<aside>\n",
    "💡 7. **Sliding Window Maximum**\n",
    "\n",
    "You are given an array of integers `nums`, there is a sliding window of size `k` which is moving from the very left of the array to the very right. You can only see the `k` numbers in the window. Each time the sliding window moves right by one position.\n",
    "\n",
    "Return *the max sliding window*.\n",
    "\n",
    "**Example 1:**\n",
    "\n",
    "```\n",
    "Input: nums = [1,3,-1,-3,5,3,6,7], k = 3\n",
    "Output: [3,3,5,5,6,7]\n",
    "Explanation:\n",
    "Window position                Max\n",
    "---------------               -----\n",
    "[1  3  -1] -3  5  3  6 7         3\n",
    " 1 [3  -1  -3] 5  3  6 7         3\n",
    " 1  3 [-1  -3  5] 3  6 7         5\n",
    " 1  3  -1 [-3  5  3] 6 7         5\n",
    " 1  3  -1  -3 [5  3  6]7         6\n",
    " 1  3  -1  -3  5 [3  6  7]       7\n",
    "```\n",
    "\n",
    "**Example 2:**\n",
    "\n",
    "```\n",
    "Input: nums = [1], k = 1\n",
    "Output: [1]\n",
    "```\n",
    "\n",
    "**Constraints:**\n",
    "\n",
    "- `1 <= nums.length <= 100000`\n",
    "- -`10000 <= nums[i] <= 10000`\n",
    "- `1 <= k <= nums.length`\n",
    "</aside>"
   ]
  },
  {
   "cell_type": "code",
   "execution_count": 13,
   "id": "6e5ca868",
   "metadata": {},
   "outputs": [],
   "source": [
    "from collections import deque\n",
    "\n",
    "def max_sliding_window(nums, k):\n",
    "    window = deque()\n",
    "    result = []\n",
    "\n",
    "    for i in range(len(nums)):\n",
    "        # Remove indices from the front of the deque that are outside the current sliding window\n",
    "        while window and window[0] <= i - k:\n",
    "            window.popleft()\n",
    "\n",
    "        # Remove indices from the back of the deque that correspond to elements smaller than the current element\n",
    "        while window and nums[window[-1]] < nums[i]:\n",
    "            window.pop()\n",
    "\n",
    "        # Append the current index to the back of the deque\n",
    "        window.append(i)\n",
    "\n",
    "        # If the window has reached the minimum size, append the maximum element to the result\n",
    "        if i >= k - 1:\n",
    "            result.append(nums[window[0]])\n",
    "\n",
    "    return result\n"
   ]
  },
  {
   "cell_type": "code",
   "execution_count": 14,
   "id": "bdd9373e",
   "metadata": {},
   "outputs": [
    {
     "name": "stdout",
     "output_type": "stream",
     "text": [
      "[3, 3, 5, 5, 6, 7]\n"
     ]
    }
   ],
   "source": [
    "nums = [1, 3, -1, -3, 5, 3, 6, 7]\n",
    "k = 3\n",
    "print(max_sliding_window(nums, k))\n",
    "# Output: [3, 3, 5, 5, 6, 7]\n"
   ]
  },
  {
   "cell_type": "markdown",
   "id": "f0e01961",
   "metadata": {},
   "source": [
    "\n",
    "💡 8. **Find K Closest Elements**\n",
    "\n",
    "Given a **sorted** integer array `arr`, two integers `k` and `x`, return the `k` closest integers to `x` in the array. The result should also be sorted in ascending order.\n",
    "\n",
    "An integer `a` is closer to `x` than an integer `b` if:\n",
    "\n",
    "- `|a - x| < |b - x|`, or\n",
    "- `|a - x| == |b - x|` and `a < b`\n",
    "\n",
    "**Example 1:**\n",
    "\n",
    "```\n",
    "Input: arr = [1,2,3,4,5], k = 4, x = 3\n",
    "Output: [1,2,3,4]\n",
    "```\n",
    "\n",
    "**Example 2:**\n",
    "\n",
    "```\n",
    "Input: arr = [1,2,3,4,5], k = 4, x = -1\n",
    "Output: [1,2,3,4]\n",
    "```\n",
    "\n",
    "**Constraints:**\n",
    "\n",
    "- `1 <= k <= arr.length`\n",
    "- `1 <= arr.length <= 10000`\n",
    "- `arr` is sorted in **ascending** order.\n",
    "- -`10000 <= arr[i], x <= 10000`\n",
    "</aside>"
   ]
  },
  {
   "cell_type": "code",
   "execution_count": 15,
   "id": "30f98948",
   "metadata": {},
   "outputs": [],
   "source": [
    "def find_closest_elements(arr, k, x):\n",
    "    left = 0\n",
    "    right = len(arr) - 1\n",
    "\n",
    "    while right - left + 1 > k:\n",
    "        if abs(arr[left] - x) > abs(arr[right] - x):\n",
    "            left += 1\n",
    "        else:\n",
    "            right -= 1\n",
    "\n",
    "    return arr[left:right+1]\n"
   ]
  },
  {
   "cell_type": "code",
   "execution_count": 16,
   "id": "c65e83f9",
   "metadata": {},
   "outputs": [
    {
     "name": "stdout",
     "output_type": "stream",
     "text": [
      "[1, 2, 3, 4]\n"
     ]
    }
   ],
   "source": [
    "arr = [1, 2, 3, 4, 5]\n",
    "k = 4\n",
    "x = 3\n",
    "print(find_closest_elements(arr, k, x))\n",
    "# Output: [1, 2, 3, 4]\n"
   ]
  },
  {
   "cell_type": "code",
   "execution_count": null,
   "id": "25cd931c",
   "metadata": {},
   "outputs": [],
   "source": []
  }
 ],
 "metadata": {
  "kernelspec": {
   "display_name": "Python 3 (ipykernel)",
   "language": "python",
   "name": "python3"
  },
  "language_info": {
   "codemirror_mode": {
    "name": "ipython",
    "version": 3
   },
   "file_extension": ".py",
   "mimetype": "text/x-python",
   "name": "python",
   "nbconvert_exporter": "python",
   "pygments_lexer": "ipython3",
   "version": "3.10.11"
  }
 },
 "nbformat": 4,
 "nbformat_minor": 5
}
