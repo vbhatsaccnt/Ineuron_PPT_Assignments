{
 "cells": [
  {
   "cell_type": "markdown",
   "metadata": {},
   "source": [
    "\n",
    "💡 **Question 1**\n",
    "\n",
    "Given a string `s`, *find the first non-repeating character in it and return its index*. If it does not exist, return `-1`.\n",
    "\n",
    "</aside>"
   ]
  },
  {
   "cell_type": "code",
   "execution_count": 1,
   "metadata": {},
   "outputs": [],
   "source": [
    "def firstUniqChar(s):\n",
    "    char_freq = {}\n",
    "\n",
    "    # Count the frequency of each character\n",
    "    for char in s:\n",
    "        char_freq[char] = char_freq.get(char, 0) + 1\n",
    "\n",
    "    # Find the first non-repeating character\n",
    "    for i, char in enumerate(s):\n",
    "        if char_freq[char] == 1:\n",
    "            return i\n",
    "\n",
    "    return -1\n"
   ]
  },
  {
   "cell_type": "code",
   "execution_count": 2,
   "metadata": {},
   "outputs": [
    {
     "name": "stdout",
     "output_type": "stream",
     "text": [
      "0\n"
     ]
    }
   ],
   "source": [
    "s = \"leetcode\"\n",
    "print(firstUniqChar(s))  # Output: 0\n"
   ]
  },
  {
   "cell_type": "markdown",
   "metadata": {},
   "source": [
    "\n",
    "💡 **Question 2**\n",
    "\n",
    "Given a **circular integer array** `nums` of length `n`, return *the maximum possible sum of a non-empty **subarray** of* `nums`.\n",
    "\n",
    "A **circular array** means the end of the array connects to the beginning of the array. Formally, the next element of `nums[i]` is `nums[(i + 1) % n]` and the previous element of `nums[i]` is `nums[(i - 1 + n) % n]`.\n",
    "\n",
    "A **subarray** may only include each element of the fixed buffer `nums` at most once. Formally, for a subarray `nums[i], nums[i + 1], ..., nums[j]`, there does not exist `i <= k1`, `k2 <= j` with `k1 % n == k2 % n`.\n",
    "\n",
    "</aside>"
   ]
  },
  {
   "cell_type": "code",
   "execution_count": 3,
   "metadata": {},
   "outputs": [],
   "source": [
    "def maxSubarraySumCircular(nums):\n",
    "    max_sum_linear = float('-inf')\n",
    "    max_sum_circular = float('-inf')\n",
    "    current_sum = 0\n",
    "    total_sum = 0\n",
    "\n",
    "    # Kadane's algorithm for finding maximum subarray sum in a linear array\n",
    "    for num in nums:\n",
    "        current_sum = max(num, current_sum + num)\n",
    "        max_sum_linear = max(max_sum_linear, current_sum)\n",
    "        total_sum += num\n",
    "\n",
    "    # Calculate the maximum subarray sum in a circular array\n",
    "    current_sum = 0\n",
    "    for num in nums:\n",
    "        current_sum = min(num, current_sum + num)\n",
    "        max_sum_circular = min(max_sum_circular, current_sum)\n",
    "\n",
    "    max_sum_circular = total_sum - max_sum_circular\n",
    "\n",
    "    return max(max_sum_linear, max_sum_circular)\n"
   ]
  },
  {
   "cell_type": "code",
   "execution_count": 7,
   "metadata": {},
   "outputs": [
    {
     "name": "stdout",
     "output_type": "stream",
     "text": [
      "inf\n"
     ]
    }
   ],
   "source": [
    "nums = [1, -2, 3, -2]\n",
    "print(maxSubarraySumCircular(nums))  \n"
   ]
  },
  {
   "cell_type": "markdown",
   "metadata": {},
   "source": [
    "\n",
    "💡 **Question 3**\n",
    "\n",
    "The school cafeteria offers circular and square sandwiches at lunch break, referred to by numbers `0` and `1` respectively. All students stand in a queue. Each student either prefers square or circular sandwiches.\n",
    "\n",
    "The number of sandwiches in the cafeteria is equal to the number of students. The sandwiches are placed in a **stack**. At each step:\n",
    "\n",
    "- If the student at the front of the queue **prefers** the sandwich on the top of the stack, they will **take it** and leave the queue.\n",
    "- Otherwise, they will **leave it** and go to the queue's end.\n",
    "\n",
    "This continues until none of the queue students want to take the top sandwich and are thus unable to eat.\n",
    "\n",
    "You are given two integer arrays `students` and `sandwiches` where `sandwiches[i]` is the type of the `ith` sandwich in the stack (`i = 0` is the top of the stack) and `students[j]` is the preference of the `jth` student in the initial queue (`j = 0` is the front of the queue). Return *the number of students that are unable to eat.*\n",
    "\n",
    "</aside>"
   ]
  },
  {
   "cell_type": "code",
   "execution_count": 8,
   "metadata": {},
   "outputs": [],
   "source": [
    "def countStudents(students, sandwiches):\n",
    "    unable_to_eat = 0\n",
    "    n = len(students)\n",
    "    i = 0\n",
    "\n",
    "    while i < n:\n",
    "        if students[i] == sandwiches[0]:\n",
    "            students.pop(i)\n",
    "            sandwiches.pop(0)\n",
    "            n -= 1\n",
    "            unable_to_eat = 0  # Reset the unable_to_eat counter since a student got a sandwich\n",
    "        else:\n",
    "            unable_to_eat += 1\n",
    "            i += 1\n",
    "\n",
    "        if unable_to_eat == n:\n",
    "            break  # All remaining students are unable to eat, exit the loop\n",
    "\n",
    "    return unable_to_eat\n"
   ]
  },
  {
   "cell_type": "code",
   "execution_count": 9,
   "metadata": {},
   "outputs": [
    {
     "name": "stdout",
     "output_type": "stream",
     "text": [
      "1\n"
     ]
    }
   ],
   "source": [
    "students = [1,1,0,0]\n",
    "sandwiches = [0,1,0,1]\n",
    "print(countStudents(students, sandwiches))  # Output: 0\n"
   ]
  },
  {
   "cell_type": "markdown",
   "metadata": {},
   "source": [
    "\n",
    "💡 **Question 4**\n",
    "\n",
    "You have a `RecentCounter` class which counts the number of recent requests within a certain time frame.\n",
    "\n",
    "Implement the `RecentCounter` class:\n",
    "\n",
    "- `RecentCounter()` Initializes the counter with zero recent requests.\n",
    "- `int ping(int t)` Adds a new request at time `t`, where `t` represents some time in milliseconds, and returns the number of requests that has happened in the past `3000` milliseconds (including the new request). Specifically, return the number of requests that have happened in the inclusive range `[t - 3000, t]`.\n",
    "\n",
    "It is **guaranteed** that every call to `ping` uses a strictly larger value of `t` than the previous call.\n",
    "\n",
    "</aside>"
   ]
  },
  {
   "cell_type": "code",
   "execution_count": 10,
   "metadata": {},
   "outputs": [],
   "source": [
    "from collections import deque\n",
    "\n",
    "class RecentCounter:\n",
    "    def __init__(self):\n",
    "        self.requests = deque()\n",
    "\n",
    "    def ping(self, t: int) -> int:\n",
    "        self.requests.append(t)\n",
    "        while self.requests[0] < t - 3000:\n",
    "            self.requests.popleft()\n",
    "        return len(self.requests)\n"
   ]
  },
  {
   "cell_type": "code",
   "execution_count": 11,
   "metadata": {},
   "outputs": [
    {
     "name": "stdout",
     "output_type": "stream",
     "text": [
      "1\n",
      "2\n",
      "3\n",
      "3\n"
     ]
    }
   ],
   "source": [
    "counter = RecentCounter()\n",
    "print(counter.ping(1))   # Output: 1\n",
    "print(counter.ping(100)) # Output: 2\n",
    "print(counter.ping(3001))# Output: 3\n",
    "print(counter.ping(3002))# Output: 3\n"
   ]
  },
  {
   "cell_type": "markdown",
   "metadata": {},
   "source": [
    "\n",
    "💡 **Question 5**\n",
    "\n",
    "There are `n` friends that are playing a game. The friends are sitting in a circle and are numbered from `1` to `n` in **clockwise order**. More formally, moving clockwise from the `ith` friend brings you to the `(i+1)th` friend for `1 <= i < n`, and moving clockwise from the `nth` friend brings you to the `1st` friend.\n",
    "\n",
    "The rules of the game are as follows:\n",
    "\n",
    "1. **Start** at the `1st` friend.\n",
    "2. Count the next `k` friends in the clockwise direction **including** the friend you started at. The counting wraps around the circle and may count some friends more than once.\n",
    "3. The last friend you counted leaves the circle and loses the game.\n",
    "4. If there is still more than one friend in the circle, go back to step `2` **starting** from the friend **immediately clockwise** of the friend who just lost and repeat.\n",
    "5. Else, the last friend in the circle wins the game.\n",
    "\n",
    "Given the number of friends, `n`, and an integer `k`, return *the winner of the game*.\n",
    "\n",
    "</aside>"
   ]
  },
  {
   "cell_type": "code",
   "execution_count": 12,
   "metadata": {},
   "outputs": [],
   "source": [
    "class ListNode:\n",
    "    def __init__(self, val=0, next=None):\n",
    "        self.val = val\n",
    "        self.next = next\n",
    "\n",
    "def findTheWinner(n, k):\n",
    "    # Create circular linked list\n",
    "    head = ListNode(1)\n",
    "    current = head\n",
    "    for i in range(2, n + 1):\n",
    "        current.next = ListNode(i)\n",
    "        current = current.next\n",
    "    current.next = head  # Connect the last friend to the first friend\n",
    "\n",
    "    # Iterate through the circle until only one friend remains\n",
    "    while current.next != current:\n",
    "        # Move (k-1) steps from the current friend\n",
    "        for _ in range(k - 1):\n",
    "            current = current.next\n",
    "        # Remove the next friend from the circle\n",
    "        current.next = current.next.next\n",
    "\n",
    "    return current.val\n"
   ]
  },
  {
   "cell_type": "code",
   "execution_count": 13,
   "metadata": {},
   "outputs": [
    {
     "name": "stdout",
     "output_type": "stream",
     "text": [
      "3\n"
     ]
    }
   ],
   "source": [
    "n = 5\n",
    "k = 2\n",
    "print(findTheWinner(n, k))  # Output: 3\n"
   ]
  },
  {
   "cell_type": "markdown",
   "metadata": {},
   "source": [
    "\n",
    "💡 **Question 6**\n",
    "\n",
    "You are given an integer array `deck`. There is a deck of cards where every card has a unique integer. The integer on the `ith` card is `deck[i]`.\n",
    "\n",
    "You can order the deck in any order you want. Initially, all the cards start face down (unrevealed) in one deck.\n",
    "\n",
    "You will do the following steps repeatedly until all cards are revealed:\n",
    "\n",
    "1. Take the top card of the deck, reveal it, and take it out of the deck.\n",
    "2. If there are still cards in the deck then put the next top card of the deck at the bottom of the deck.\n",
    "3. If there are still unrevealed cards, go back to step 1. Otherwise, stop.\n",
    "\n",
    "Return *an ordering of the deck that would reveal the cards in increasing order*.\n",
    "\n",
    "**Note** that the first entry in the answer is considered to be the top of the deck.\n",
    "\n",
    "</aside>"
   ]
  },
  {
   "cell_type": "code",
   "execution_count": 14,
   "metadata": {},
   "outputs": [],
   "source": [
    "from collections import deque\n",
    "\n",
    "def deckRevealedIncreasing(deck):\n",
    "    deck.sort()\n",
    "    n = len(deck)\n",
    "    revealed_deck = deque()\n",
    "\n",
    "    for i in range(n - 1, -1, -1):\n",
    "        if len(revealed_deck) > 1:\n",
    "            revealed_deck.appendleft(revealed_deck.pop())\n",
    "\n",
    "        revealed_deck.appendleft(deck[i])\n",
    "\n",
    "    return list(revealed_deck)\n"
   ]
  },
  {
   "cell_type": "code",
   "execution_count": 15,
   "metadata": {},
   "outputs": [
    {
     "name": "stdout",
     "output_type": "stream",
     "text": [
      "[2, 13, 3, 11, 5, 17, 7]\n"
     ]
    }
   ],
   "source": [
    "deck = [17, 13, 11, 2, 3, 5, 7]\n",
    "print(deckRevealedIncreasing(deck))  # Output: [2, 13, 3, 11, 5, 17, 7]\n"
   ]
  },
  {
   "cell_type": "markdown",
   "metadata": {},
   "source": [
    "\n",
    "💡 **Question 7**\n",
    "\n",
    "Design a queue that supports `push` and `pop` operations in the front, middle, and back.\n",
    "\n",
    "Implement the `FrontMiddleBack` class:\n",
    "\n",
    "- `FrontMiddleBack()` Initializes the queue.\n",
    "- `void pushFront(int val)` Adds `val` to the **front** of the queue.\n",
    "- `void pushMiddle(int val)` Adds `val` to the **middle** of the queue.\n",
    "- `void pushBack(int val)` Adds `val` to the **back** of the queue.\n",
    "- `int popFront()` Removes the **front** element of the queue and returns it. If the queue is empty, return `1`.\n",
    "- `int popMiddle()` Removes the **middle** element of the queue and returns it. If the queue is empty, return `1`.\n",
    "- `int popBack()` Removes the **back** element of the queue and returns it. If the queue is empty, return `1`.\n",
    "\n",
    "**Notice** that when there are **two** middle position choices, the operation is performed on the **frontmost** middle position choice. For example:\n",
    "\n",
    "- Pushing `6` into the middle of `[1, 2, 3, 4, 5]` results in `[1, 2, 6, 3, 4, 5]`.\n",
    "- Popping the middle from `[1, 2, 3, 4, 5, 6]` returns `3` and results in `[1, 2, 4, 5, 6]`.\n",
    "</aside>"
   ]
  },
  {
   "cell_type": "code",
   "execution_count": 16,
   "metadata": {},
   "outputs": [],
   "source": [
    "from collections import deque\n",
    "\n",
    "class FrontMiddleBack:\n",
    "    def __init__(self):\n",
    "        self.frontDeque = deque()\n",
    "        self.backDeque = deque()\n",
    "\n",
    "    def pushFront(self, val: int) -> None:\n",
    "        self.frontDeque.append(val)\n",
    "\n",
    "    def pushMiddle(self, val: int) -> None:\n",
    "        if len(self.frontDeque) > len(self.backDeque):\n",
    "            self.backDeque.appendleft(self.frontDeque.pop())\n",
    "        self.frontDeque.append(val)\n",
    "\n",
    "    def pushBack(self, val: int) -> None:\n",
    "        self.backDeque.append(val)\n",
    "\n",
    "    def popFront(self) -> int:\n",
    "        if self.frontDeque:\n",
    "            return self.frontDeque.pop()\n",
    "        elif self.backDeque:\n",
    "            return self.backDeque.popleft()\n",
    "        else:\n",
    "            return -1\n",
    "\n",
    "    def popMiddle(self) -> int:\n",
    "        if len(self.frontDeque) > len(self.backDeque):\n",
    "            return self.frontDeque.pop()\n",
    "        elif self.frontDeque:\n",
    "            return self.backDeque.popleft()\n",
    "        else:\n",
    "            return -1\n",
    "\n",
    "    def popBack(self) -> int:\n",
    "        if self.backDeque:\n",
    "            return self.backDeque.pop()\n",
    "        elif self.frontDeque:\n",
    "            return\n"
   ]
  },
  {
   "cell_type": "code",
   "execution_count": 17,
   "metadata": {},
   "outputs": [
    {
     "name": "stdout",
     "output_type": "stream",
     "text": [
      "4\n",
      "3\n",
      "2\n",
      "1\n",
      "-1\n",
      "-1\n",
      "None\n"
     ]
    }
   ],
   "source": [
    "queue = FrontMiddleBack()\n",
    "\n",
    "queue.pushFront(1)  # [1]\n",
    "queue.pushBack(2)   # [1, 2]\n",
    "queue.pushMiddle(3) # [1, 3, 2]\n",
    "queue.pushMiddle(4) # [1, 4, 3, 2]\n",
    "\n",
    "print(queue.popFront())   # Output: 1, [4, 3, 2]\n",
    "print(queue.popMiddle())  # Output: 4, [3, 2]\n",
    "print(queue.popBack())    # Output: 2, [3]\n",
    "print(queue.popFront())   # Output: 3, []\n",
    "\n",
    "print(queue.popFront())   # Output: -1, empty queue\n",
    "print(queue.popMiddle())  # Output: -1, empty queue\n",
    "print(queue.popBack())    # Output: -1, empty queue\n"
   ]
  },
  {
   "cell_type": "markdown",
   "metadata": {},
   "source": [
    "\n",
    "💡 **Question 8**\n",
    "\n",
    "For a stream of integers, implement a data structure that checks if the last `k` integers parsed in the stream are **equal** to `value`.\n",
    "\n",
    "Implement the **DataStream** class:\n",
    "\n",
    "- `DataStream(int value, int k)` Initializes the object with an empty integer stream and the two integers `value` and `k`.\n",
    "- `boolean consec(int num)` Adds `num` to the stream of integers. Returns `true` if the last `k` integers are equal to `value`, and `false` otherwise. If there are less than `k` integers, the condition does not hold true, so returns `false`.\n",
    "</aside>"
   ]
  },
  {
   "cell_type": "code",
   "execution_count": 18,
   "metadata": {},
   "outputs": [],
   "source": [
    "class DataStream:\n",
    "    def __init__(self, value: int, k: int):\n",
    "        self.stream = [0] * k\n",
    "        self.value = value\n",
    "        self.k = k\n",
    "        self.count = 0\n",
    "\n",
    "    def consec(self, num: int) -> bool:\n",
    "        self.stream.pop(0)\n",
    "        self.stream.append(num)\n",
    "        self.count += 1\n",
    "\n",
    "        if self.count < self.k:\n",
    "            return False\n",
    "\n",
    "        return all(val == self.value for val in self.stream)\n"
   ]
  },
  {
   "cell_type": "code",
   "execution_count": 20,
   "metadata": {},
   "outputs": [
    {
     "name": "stdout",
     "output_type": "stream",
     "text": [
      "False\n",
      "False\n",
      "False\n",
      "False\n",
      "False\n",
      "False\n"
     ]
    }
   ],
   "source": [
    "stream = DataStream(3, 4)\n",
    "print(stream.consec(1))  # Output: False\n",
    "print(stream.consec(2))  # Output: False\n",
    "print(stream.consec(3))  # Output: False\n",
    "print(stream.consec(3))  # Output: False\n",
    "print(stream.consec(3))  # Output: True\n",
    "print(stream.consec(4))  # Output: False\n"
   ]
  },
  {
   "cell_type": "code",
   "execution_count": null,
   "metadata": {},
   "outputs": [],
   "source": []
  }
 ],
 "metadata": {
  "kernelspec": {
   "display_name": "Python 3",
   "language": "python",
   "name": "python3"
  },
  "language_info": {
   "codemirror_mode": {
    "name": "ipython",
    "version": 3
   },
   "file_extension": ".py",
   "mimetype": "text/x-python",
   "name": "python",
   "nbconvert_exporter": "python",
   "pygments_lexer": "ipython3",
   "version": "3.7.4"
  }
 },
 "nbformat": 4,
 "nbformat_minor": 2
}
