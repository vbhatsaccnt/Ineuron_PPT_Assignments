{
 "cells": [
  {
   "cell_type": "markdown",
   "metadata": {},
   "source": [
    "\n",
    "💡 **Question 1**\n",
    "\n",
    "Given two linked list of the same size, the task is to create a new linked list using those linked lists. The condition is that the greater node among both linked list will be added to the new linked list.\n",
    "\n",
    "</aside>"
   ]
  },
  {
   "cell_type": "code",
   "execution_count": 2,
   "metadata": {},
   "outputs": [],
   "source": [
    "class Node:\n",
    "    def __init__(self, value):\n",
    "        self.value = value\n",
    "        self.next = None\n",
    "\n",
    "def merge_linked_lists(head1, head2):\n",
    "    result_head = None\n",
    "    result_tail = None\n",
    "\n",
    "    while head1 is not None and head2 is not None:\n",
    "        if head1.value >= head2.value:\n",
    "            new_node = Node(head1.value)\n",
    "            head1 = head1.next\n",
    "        else:\n",
    "            new_node = Node(head2.value)\n",
    "            head2 = head2.next\n",
    "\n",
    "        if result_head is None:\n",
    "            result_head = new_node\n",
    "            result_tail = new_node\n",
    "        else:\n",
    "            result_tail.next = new_node\n",
    "            result_tail = result_tail.next\n",
    "\n",
    "    # Append remaining nodes from the first linked list, if any\n",
    "    while head1 is not None:\n",
    "        new_node = Node(head1.value)\n",
    "        result_tail.next = new_node\n",
    "        result_tail = result_tail.next\n",
    "        head1 = head1.next\n",
    "\n",
    "    # Append remaining nodes from the second linked list, if any\n",
    "    while head2 is not None:\n",
    "        new_node = Node(head2.value)\n",
    "        result_tail.next = new_node\n",
    "        result_tail = result_tail.next\n",
    "        head2 = head2.next\n",
    "\n",
    "    return result_head"
   ]
  },
  {
   "cell_type": "code",
   "execution_count": 5,
   "metadata": {},
   "outputs": [
    {
     "name": "stdout",
     "output_type": "stream",
     "text": [
      "8 3 7 9 2 5 1 4 6 2 "
     ]
    }
   ],
   "source": [
    " #Create Linked List 1\n",
    "list1 = Node(3)\n",
    "list1.next = Node(7)\n",
    "list1.next.next = Node(9)\n",
    "list1.next.next.next = Node(2)\n",
    "list1.next.next.next.next = Node(5)\n",
    "\n",
    "# Create Linked List 2\n",
    "list2 = Node(8)\n",
    "list2.next = Node(1)\n",
    "list2.next.next = Node(4)\n",
    "list2.next.next.next = Node(6)\n",
    "list2.next.next.next.next = Node(2)\n",
    "\n",
    "# Merge the two linked lists\n",
    "result = merge_linked_lists(list1, list2)\n",
    "\n",
    "# Print the resulting linked list\n",
    "current = result\n",
    "while current is not None:\n",
    "    print(current.value, end=\" \")\n",
    "    current = current.next"
   ]
  },
  {
   "cell_type": "markdown",
   "metadata": {},
   "source": [
    "\n",
    "💡 **Question 2**\n",
    "\n",
    "Write a function that takes a list sorted in non-decreasing order and deletes any duplicate nodes from the list. The list should only be traversed once.\n",
    "\n",
    "For example if the linked list is 11->11->11->21->43->43->60 then removeDuplicates() should convert the list to 11->21->43->60.\n",
    "\n",
    "</aside>"
   ]
  },
  {
   "cell_type": "code",
   "execution_count": 6,
   "metadata": {},
   "outputs": [],
   "source": [
    "class Node:\n",
    "    def __init__(self, value):\n",
    "        self.value = value\n",
    "        self.next = None\n",
    "\n",
    "def remove_duplicates(head):\n",
    "    if head is None:\n",
    "        return head\n",
    "\n",
    "    current = head\n",
    "    while current.next is not None:\n",
    "        if current.value == current.next.value:\n",
    "            current.next = current.next.next\n",
    "        else:\n",
    "            current = current.next\n",
    "\n",
    "    return head\n"
   ]
  },
  {
   "cell_type": "code",
   "execution_count": 7,
   "metadata": {},
   "outputs": [
    {
     "name": "stdout",
     "output_type": "stream",
     "text": [
      "11->21->43->60->"
     ]
    }
   ],
   "source": [
    "# Create the linked list 11->11->11->21->43->43->60\n",
    "head = Node(11)\n",
    "head.next = Node(11)\n",
    "head.next.next = Node(11)\n",
    "head.next.next.next = Node(21)\n",
    "head.next.next.next.next = Node(43)\n",
    "head.next.next.next.next.next = Node(43)\n",
    "head.next.next.next.next.next.next = Node(60)\n",
    "\n",
    "# Call the remove_duplicates function\n",
    "new_head = remove_duplicates(head)\n",
    "\n",
    "# Print the resulting linked list\n",
    "current = new_head\n",
    "while current is not None:\n",
    "    print(current.value, end=\"->\")\n",
    "    current = current.next\n",
    "\n",
    "# Output: 11->21->43->60->\n"
   ]
  },
  {
   "cell_type": "markdown",
   "metadata": {},
   "source": [
    "\n",
    "💡 **Question 3**\n",
    "\n",
    "Given a linked list of size **N**. The task is to reverse every **k** nodes (where k is an input to the function) in the linked list. If the number of nodes is not a multiple of *k* then left-out nodes, in the end, should be considered as a group and must be reversed (See Example 2 for clarification).\n",
    "\n",
    "</aside>"
   ]
  },
  {
   "cell_type": "code",
   "execution_count": 8,
   "metadata": {},
   "outputs": [],
   "source": [
    "class Node:\n",
    "    def __init__(self, value):\n",
    "        self.value = value\n",
    "        self.next = None\n",
    "\n",
    "def reverse_k_nodes(head, k):\n",
    "    if head is None or k <= 1:\n",
    "        return head\n",
    "\n",
    "    current = head\n",
    "    prev = None\n",
    "    count = 0\n",
    "\n",
    "    # Reverse the first k nodes\n",
    "    while current is not None and count < k:\n",
    "        next_node = current.next\n",
    "        current.next = prev\n",
    "        prev = current\n",
    "        current = next_node\n",
    "        count += 1\n",
    "\n",
    "    # If there are remaining nodes, recursively reverse them\n",
    "    if next_node is not None:\n",
    "        head.next = reverse_k_nodes(next_node, k)\n",
    "\n",
    "    return prev\n"
   ]
  },
  {
   "cell_type": "code",
   "execution_count": 9,
   "metadata": {},
   "outputs": [
    {
     "name": "stdout",
     "output_type": "stream",
     "text": [
      "3 -> 2 -> 1 -> 6 -> 5 -> 4 -> 9 -> 8 -> 7 -> "
     ]
    }
   ],
   "source": [
    "# Create the linked list 1 -> 2 -> 3 -> 4 -> 5 -> 6 -> 7 -> 8 -> 9\n",
    "head = Node(1)\n",
    "head.next = Node(2)\n",
    "head.next.next = Node(3)\n",
    "head.next.next.next = Node(4)\n",
    "head.next.next.next.next = Node(5)\n",
    "head.next.next.next.next.next = Node(6)\n",
    "head.next.next.next.next.next.next = Node(7)\n",
    "head.next.next.next.next.next.next.next = Node(8)\n",
    "head.next.next.next.next.next.next.next.next = Node(9)\n",
    "\n",
    "# Set k value\n",
    "k = 3\n",
    "\n",
    "# Call the reverse_k_nodes function\n",
    "new_head = reverse_k_nodes(head, k)\n",
    "\n",
    "# Print the resulting linked list\n",
    "current = new_head\n",
    "while current is not None:\n",
    "    print(current.value, end=\" -> \")\n",
    "    current = current.next\n",
    "\n",
    "# Output: 3 -> 2 -> 1 -> 6 -> 5 -> 4 -> 9 -> 8 -> 7 ->\n"
   ]
  },
  {
   "cell_type": "markdown",
   "metadata": {},
   "source": [
    "\n",
    "💡 **Question 4**\n",
    "\n",
    "Given a linked list, write a function to reverse every alternate k nodes (where k is an input to the function) in an efficient way. Give the complexity of your algorithm.\n",
    "\n",
    "</aside>"
   ]
  },
  {
   "cell_type": "code",
   "execution_count": 10,
   "metadata": {},
   "outputs": [],
   "source": [
    "class Node:\n",
    "    def __init__(self, value):\n",
    "        self.value = value\n",
    "        self.next = None\n",
    "\n",
    "def reverse_alternate_k_nodes(head, k):\n",
    "    if head is None or k <= 1:\n",
    "        return head\n",
    "\n",
    "    current = head\n",
    "    prev = None\n",
    "    count = 0\n",
    "\n",
    "    # Reverse the first k nodes\n",
    "    while current is not None and count < k:\n",
    "        next_node = current.next\n",
    "        current.next = prev\n",
    "        prev = current\n",
    "        current = next_node\n",
    "        count += 1\n",
    "\n",
    "    # Skip the next k nodes\n",
    "    if next_node is not None:\n",
    "        head.next = next_node\n",
    "\n",
    "        skip_count = 0\n",
    "        while skip_count < k - 1 and next_node is not None:\n",
    "            next_node = next_node.next\n",
    "            skip_count += 1\n",
    "\n",
    "        if next_node is not None:\n",
    "            next_node.next = reverse_alternate_k_nodes(next_node.next, k)\n",
    "\n",
    "    return prev\n"
   ]
  },
  {
   "cell_type": "code",
   "execution_count": 11,
   "metadata": {},
   "outputs": [
    {
     "name": "stdout",
     "output_type": "stream",
     "text": [
      "3 -> 2 -> 1 -> 4 -> 5 -> 6 -> 9 -> 8 -> 7 -> 10 -> "
     ]
    }
   ],
   "source": [
    "# Create the linked list 1 -> 2 -> 3 -> 4 -> 5 -> 6 -> 7 -> 8 -> 9 -> 10\n",
    "head = Node(1)\n",
    "head.next = Node(2)\n",
    "head.next.next = Node(3)\n",
    "head.next.next.next = Node(4)\n",
    "head.next.next.next.next = Node(5)\n",
    "head.next.next.next.next.next = Node(6)\n",
    "head.next.next.next.next.next.next = Node(7)\n",
    "head.next.next.next.next.next.next.next = Node(8)\n",
    "head.next.next.next.next.next.next.next.next = Node(9)\n",
    "head.next.next.next.next.next.next.next.next.next = Node(10)\n",
    "\n",
    "# Set k value\n",
    "k = 3\n",
    "\n",
    "# Call the reverse_alternate_k_nodes function\n",
    "new_head = reverse_alternate_k_nodes(head, k)\n",
    "\n",
    "# Print the resulting linked list\n",
    "current = new_head\n",
    "while current is not None:\n",
    "    print(current.value, end=\" -> \")\n",
    "    current = current.next\n",
    "\n",
    "# Output: 3 -> 2 -> 1 -> 4 -> 5 -> 6 -> 9 -> 8 -> 7 -> 10 ->\n"
   ]
  },
  {
   "cell_type": "markdown",
   "metadata": {},
   "source": [
    "\n",
    "💡 **Question 5**\n",
    "\n",
    "Given a linked list and a key to be deleted. Delete last occurrence of key from linked. The list may have duplicates.\n",
    "\n",
    "</aside>"
   ]
  },
  {
   "cell_type": "code",
   "execution_count": 12,
   "metadata": {},
   "outputs": [],
   "source": [
    "class Node:\n",
    "    def __init__(self, value):\n",
    "        self.value = value\n",
    "        self.next = None\n",
    "\n",
    "def delete_last_occurrence(head, key):\n",
    "    if head is None:\n",
    "        return None\n",
    "\n",
    "    prev = None\n",
    "    current = head\n",
    "    lastOccurrence = None\n",
    "\n",
    "    # Find the last occurrence of the key\n",
    "    while current is not None:\n",
    "        if current.value == key:\n",
    "            lastOccurrence = current\n",
    "        current = current.next\n",
    "\n",
    "    # If the key was not found\n",
    "    if lastOccurrence is None:\n",
    "        return head\n",
    "\n",
    "    # Traverse the list again to delete the last occurrence\n",
    "    current = head\n",
    "    while current.next is not None:\n",
    "        if current.next == lastOccurrence:\n",
    "            current.next = lastOccurrence.next\n",
    "            break\n",
    "        current = current.next\n",
    "\n",
    "    return head\n"
   ]
  },
  {
   "cell_type": "code",
   "execution_count": 13,
   "metadata": {},
   "outputs": [
    {
     "name": "stdout",
     "output_type": "stream",
     "text": [
      "1 -> 2 -> 3 -> 2 -> 4 -> 5 -> "
     ]
    }
   ],
   "source": [
    "# Create the linked list 1 -> 2 -> 3 -> 2 -> 4 -> 5 -> 2\n",
    "head = Node(1)\n",
    "head.next = Node(2)\n",
    "head.next.next = Node(3)\n",
    "head.next.next.next = Node(2)\n",
    "head.next.next.next.next = Node(4)\n",
    "head.next.next.next.next.next = Node(5)\n",
    "head.next.next.next.next.next.next = Node(2)\n",
    "\n",
    "# Set the key to be deleted\n",
    "key = 2\n",
    "\n",
    "# Call the delete_last_occurrence function\n",
    "new_head = delete_last_occurrence(head, key)\n",
    "\n",
    "# Print the resulting linked list\n",
    "current = new_head\n",
    "while current is not None:\n",
    "    print(current.value, end=\" -> \")\n",
    "    current = current.next\n",
    "\n",
    "# Output: 1 -> 2 -> 3 -> 2 -> 4 -> 5 ->\n"
   ]
  },
  {
   "cell_type": "markdown",
   "metadata": {},
   "source": [
    "\n",
    "💡 **Question 6**\n",
    "\n",
    "Given two sorted linked lists consisting of **N** and **M** nodes respectively. The task is to merge both of the lists (in place) and return the head of the merged list.\n",
    "\n",
    "</aside>"
   ]
  },
  {
   "cell_type": "code",
   "execution_count": 14,
   "metadata": {},
   "outputs": [],
   "source": [
    "class Node:\n",
    "    def __init__(self, value):\n",
    "        self.value = value\n",
    "        self.next = None\n",
    "\n",
    "def merge_sorted_lists(head1, head2):\n",
    "    # Create a dummy node as the head of the merged list\n",
    "    dummy = Node(0)\n",
    "    tail = dummy\n",
    "\n",
    "    while head1 is not None and head2 is not None:\n",
    "        if head1.value <= head2.value:\n",
    "            tail.next = head1\n",
    "            head1 = head1.next\n",
    "        else:\n",
    "            tail.next = head2\n",
    "            head2 = head2.next\n",
    "        tail = tail.next\n",
    "\n",
    "    # Append the remaining nodes of the non-empty list\n",
    "    if head1 is not None:\n",
    "        tail.next = head1\n",
    "    elif head2 is not None:\n",
    "        tail.next = head2\n",
    "\n",
    "    return dummy.next\n"
   ]
  },
  {
   "cell_type": "code",
   "execution_count": 15,
   "metadata": {},
   "outputs": [
    {
     "name": "stdout",
     "output_type": "stream",
     "text": [
      "1 -> 2 -> 3 -> 4 -> 5 -> 6 -> 7 -> 8 -> 9 -> "
     ]
    }
   ],
   "source": [
    "# Create the first linked list: 1 -> 3 -> 5 -> 7\n",
    "head1 = Node(1)\n",
    "head1.next = Node(3)\n",
    "head1.next.next = Node(5)\n",
    "head1.next.next.next = Node(7)\n",
    "\n",
    "# Create the second linked list: 2 -> 4 -> 6 -> 8 -> 9\n",
    "head2 = Node(2)\n",
    "head2.next = Node(4)\n",
    "head2.next.next = Node(6)\n",
    "head2.next.next.next = Node(8)\n",
    "head2.next.next.next.next = Node(9)\n",
    "\n",
    "# Call the merge_sorted_lists function\n",
    "merged_head = merge_sorted_lists(head1, head2)\n",
    "\n",
    "# Print the resulting merged list\n",
    "current = merged_head\n",
    "while current is not None:\n",
    "    print(current.value, end=\" -> \")\n",
    "    current = current.next\n",
    "\n",
    "# Output: 1 -> 2 -> 3 -> 4 -> 5 -> 6 -> 7 -> 8 -> 9 ->\n"
   ]
  },
  {
   "cell_type": "markdown",
   "metadata": {},
   "source": [
    "\n",
    "💡 **Question 7**\n",
    "\n",
    "Given a **Doubly Linked List**, the task is to reverse the given Doubly Linked List.\n",
    "\n",
    "**Example:**\n",
    "\n",
    "</aside>"
   ]
  },
  {
   "cell_type": "code",
   "execution_count": 16,
   "metadata": {},
   "outputs": [],
   "source": [
    "class Node:\n",
    "    def __init__(self, value):\n",
    "        self.value = value\n",
    "        self.prev = None\n",
    "        self.next = None\n",
    "\n",
    "def reverse_doubly_linked_list(head):\n",
    "    if head is None:\n",
    "        return None\n",
    "\n",
    "    current = head\n",
    "    prev = None\n",
    "\n",
    "    while current is not None:\n",
    "        next_node = current.next\n",
    "        current.next = prev\n",
    "        current.prev = next_node\n",
    "        prev = current\n",
    "        current = next_node\n",
    "\n",
    "    return prev\n"
   ]
  },
  {
   "cell_type": "code",
   "execution_count": 17,
   "metadata": {},
   "outputs": [
    {
     "name": "stdout",
     "output_type": "stream",
     "text": [
      "5 <-> 4 <-> 3 <-> 2 <-> 1 <-> "
     ]
    }
   ],
   "source": [
    "# Create the doubly linked list: 1 <-> 2 <-> 3 <-> 4 <-> 5\n",
    "head = Node(1)\n",
    "head.next = Node(2)\n",
    "head.next.prev = head\n",
    "head.next.next = Node(3)\n",
    "head.next.next.prev = head.next\n",
    "head.next.next.next = Node(4)\n",
    "head.next.next.next.prev = head.next.next\n",
    "head.next.next.next.next = Node(5)\n",
    "head.next.next.next.next.prev = head.next.next.next\n",
    "\n",
    "# Call the reverse_doubly_linked_list function\n",
    "reversed_head = reverse_doubly_linked_list(head)\n",
    "\n",
    "# Print the resulting reversed list\n",
    "current = reversed_head\n",
    "while current is not None:\n",
    "    print(current.value, end=\" <-> \")\n",
    "    current = current.next\n",
    "\n",
    "# Output: 5 <-> 4 <-> 3 <-> 2 <-> 1 <->\n"
   ]
  },
  {
   "cell_type": "markdown",
   "metadata": {},
   "source": [
    "\n",
    "💡 **Question 8**\n",
    "\n",
    "Given a doubly linked list and a position. The task is to delete a node from given position in a doubly linked list.\n",
    "\n",
    "</aside>"
   ]
  },
  {
   "cell_type": "code",
   "execution_count": 18,
   "metadata": {},
   "outputs": [],
   "source": [
    "class Node:\n",
    "    def __init__(self, value):\n",
    "        self.value = value\n",
    "        self.prev = None\n",
    "        self.next = None\n",
    "\n",
    "def delete_node_at_position(head, position):\n",
    "    if head is None:\n",
    "        return None\n",
    "\n",
    "    current = head\n",
    "    prev = None\n",
    "\n",
    "    # Traverse the list up to the desired position\n",
    "    for _ in range(position - 1):\n",
    "        if current is None:\n",
    "            return head\n",
    "        prev = current\n",
    "        current = current.next\n",
    "\n",
    "    # If the desired position is the first node\n",
    "    if prev is None:\n",
    "        head = current.next\n",
    "        if head is not None:\n",
    "            head.prev = None\n",
    "\n",
    "    # If the desired position is not the first node\n",
    "    else:\n",
    "        prev.next = current.next\n",
    "        if current.next is not None:\n",
    "            current.next.prev = prev\n",
    "\n",
    "    # Free the memory occupied by the current node\n",
    "    current = None\n",
    "\n",
    "    return head\n"
   ]
  },
  {
   "cell_type": "code",
   "execution_count": 19,
   "metadata": {},
   "outputs": [
    {
     "name": "stdout",
     "output_type": "stream",
     "text": [
      "1 <-> 2 <-> 4 <-> 5 <-> "
     ]
    }
   ],
   "source": [
    "# Create the doubly linked list: 1 <-> 2 <-> 3 <-> 4 <-> 5\n",
    "head = Node(1)\n",
    "head.next = Node(2)\n",
    "head.next.prev = head\n",
    "head.next.next = Node(3)\n",
    "head.next.next.prev = head.next\n",
    "head.next.next.next = Node(4)\n",
    "head.next.next.next.prev = head.next.next\n",
    "head.next.next.next.next = Node(5)\n",
    "head.next.next.next.next.prev = head.next.next.next\n",
    "\n",
    "# Set the position to delete\n",
    "position = 3\n",
    "\n",
    "# Call the delete_node_at_position function\n",
    "updated_head = delete_node_at_position(head, position)\n",
    "\n",
    "# Print the resulting updated list\n",
    "current = updated_head\n",
    "while current is not None:\n",
    "    print(current.value, end=\" <-> \")\n",
    "    current = current.next\n",
    "\n",
    "# Output: 1 <-> 2 <-> 4 <-> 5 <->\n"
   ]
  },
  {
   "cell_type": "code",
   "execution_count": null,
   "metadata": {},
   "outputs": [],
   "source": []
  },
  {
   "cell_type": "code",
   "execution_count": 94,
   "metadata": {},
   "outputs": [],
   "source": []
  },
  {
   "cell_type": "code",
   "execution_count": null,
   "metadata": {},
   "outputs": [],
   "source": []
  },
  {
   "cell_type": "code",
   "execution_count": null,
   "metadata": {},
   "outputs": [],
   "source": []
  },
  {
   "cell_type": "code",
   "execution_count": null,
   "metadata": {},
   "outputs": [],
   "source": []
  }
 ],
 "metadata": {
  "kernelspec": {
   "display_name": "Python 3",
   "language": "python",
   "name": "python3"
  },
  "language_info": {
   "codemirror_mode": {
    "name": "ipython",
    "version": 3
   },
   "file_extension": ".py",
   "mimetype": "text/x-python",
   "name": "python",
   "nbconvert_exporter": "python",
   "pygments_lexer": "ipython3",
   "version": "3.7.4"
  }
 },
 "nbformat": 4,
 "nbformat_minor": 2
}
