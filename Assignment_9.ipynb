{
  "nbformat": 4,
  "nbformat_minor": 0,
  "metadata": {
    "colab": {
      "provenance": []
    },
    "kernelspec": {
      "name": "python3",
      "display_name": "Python 3"
    },
    "language_info": {
      "name": "python"
    }
  },
  "cells": [
    {
      "cell_type": "markdown",
      "source": [
        "**Question 1**\n",
        "\n",
        "Given an integer `n`, return *`true` if it is a power of two. Otherwise, return `false`*.\n",
        "\n",
        "An integer `n` is a power of two, if there exists an integer `x` such that `n == 2x`.\n",
        "\n",
        "**Example 1:**\n",
        "Input: n = 1 \n",
        "\n",
        "Output: true\n",
        "\n",
        "**Example 2:**\n",
        "Input: n = 16 \n",
        "\n",
        "Output: true\n",
        "\n",
        "**Example 3:**\n",
        "Input: n = 3 \n",
        "\n",
        "Output: false\n",
        "\n",
        "</aside>\n"
      ],
      "metadata": {
        "id": "Ogul9BOQY6GQ"
      }
    },
    {
      "cell_type": "code",
      "source": [
        "def is_power_of_two(n):\n",
        "    if n <= 0:\n",
        "        return False\n",
        "    return (n & (n - 1)) == 0\n",
        "\n",
        "# Example usage\n",
        "number = 16\n",
        "result = is_power_of_two(number)\n",
        "print(result)  # Output: True\n"
      ],
      "metadata": {
        "colab": {
          "base_uri": "https://localhost:8080/"
        },
        "id": "GX1oCtoCbPIJ",
        "outputId": "bbdeabdb-4ebe-44ea-b12d-95a50ef14c25"
      },
      "execution_count": 10,
      "outputs": [
        {
          "output_type": "stream",
          "name": "stdout",
          "text": [
            "True\n"
          ]
        }
      ]
    },
    {
      "cell_type": "markdown",
      "source": [
        "\n",
        "**Question 2**\n",
        "\n",
        "Given a number n, find the sum of the first natural numbers.\n",
        "\n",
        "**Example 1:**\n",
        "\n",
        "Input: n = 3 \n",
        "\n",
        "Output: 6\n",
        "\n",
        "**Example 2:**\n",
        "\n",
        "Input  : 5 \n",
        "\n",
        "Output : 15\n",
        "\n",
        "</aside>"
      ],
      "metadata": {
        "id": "JTf5SHWwZOWV"
      }
    },
    {
      "cell_type": "code",
      "source": [
        "def sum_of_natural_numbers(n):\n",
        "    sum = (n * (n + 1)) // 2\n",
        "    return sum\n",
        "\n",
        "# Example usage\n",
        "number = 10\n",
        "result = sum_of_natural_numbers(number)\n",
        "print(result)  # Output: 55\n"
      ],
      "metadata": {
        "colab": {
          "base_uri": "https://localhost:8080/"
        },
        "id": "hQNioMRIbD36",
        "outputId": "a1689ca7-7c4c-48e3-f992-3c4dcb2105db"
      },
      "execution_count": 9,
      "outputs": [
        {
          "output_type": "stream",
          "name": "stdout",
          "text": [
            "55\n"
          ]
        }
      ]
    },
    {
      "cell_type": "markdown",
      "source": [
        "\n",
        "💡 **Question 3**\n",
        "\n",
        "****Given a positive integer, N. Find the factorial of N. \n",
        "\n",
        "**Example 1:**\n",
        "\n",
        "Input: N = 5 \n",
        "\n",
        "Output: 120\n",
        "\n",
        "**Example 2:**\n",
        "\n",
        "Input: N = 4\n",
        "\n",
        "Output: 24\n",
        "\n",
        "</aside>"
      ],
      "metadata": {
        "id": "zrgyZPeFZT5U"
      }
    },
    {
      "cell_type": "code",
      "source": [
        "def factorial(N):\n",
        "    if N == 0:\n",
        "        return 1\n",
        "    else:\n",
        "        return N * factorial(N - 1)\n",
        "\n",
        "# Example usage\n",
        "number = 5\n",
        "result = factorial(number)\n",
        "print(result)  # Output: 120\n"
      ],
      "metadata": {
        "colab": {
          "base_uri": "https://localhost:8080/"
        },
        "id": "nPrr_PT-a48V",
        "outputId": "4958777d-6220-4f0c-c075-d952928ec4cf"
      },
      "execution_count": 8,
      "outputs": [
        {
          "output_type": "stream",
          "name": "stdout",
          "text": [
            "120\n"
          ]
        }
      ]
    },
    {
      "cell_type": "markdown",
      "source": [
        "\n",
        "💡 **Question 4**\n",
        "\n",
        "Given a number N and a power P, the task is to find the exponent of this number raised to the given power, i.e. N^P.\n",
        "\n",
        "**Example 1 :** \n",
        "\n",
        "Input: N = 5, P = 2\n",
        "\n",
        "Output: 25\n",
        "\n",
        "**Example 2 :**\n",
        "Input: N = 2, P = 5\n",
        "\n",
        "Output: 32\n",
        "\n",
        "</aside>"
      ],
      "metadata": {
        "id": "KQ6rD5qEZZMK"
      }
    },
    {
      "cell_type": "code",
      "source": [
        "def find_exponent(N, P):\n",
        "    exponent = N ** P\n",
        "    return exponent\n",
        "\n",
        "# Example usage\n",
        "number = 2\n",
        "power = 3\n",
        "\n",
        "result = find_exponent(number, power)\n",
        "print(result)  # Output: 8\n"
      ],
      "metadata": {
        "colab": {
          "base_uri": "https://localhost:8080/"
        },
        "id": "VuuHOXpRasX0",
        "outputId": "350a655d-b1e8-4473-f285-ffb5a8639326"
      },
      "execution_count": 7,
      "outputs": [
        {
          "output_type": "stream",
          "name": "stdout",
          "text": [
            "8\n"
          ]
        }
      ]
    },
    {
      "cell_type": "markdown",
      "source": [
        "\n",
        "💡 **Question 5**\n",
        "\n",
        "Given an array of integers **arr**, the task is to find maximum element of that array using recursion.\n",
        "\n",
        "**Example 1:**\n",
        "\n",
        "Input: arr = {1, 4, 3, -5, -4, 8, 6};\n",
        "Output: 8\n",
        "\n",
        "**Example 2:**\n",
        "\n",
        "Input: arr = {1, 4, 45, 6, 10, -8};\n",
        "Output: 45\n",
        "\n",
        "</aside>"
      ],
      "metadata": {
        "id": "VgAuLP7PZeU7"
      }
    },
    {
      "cell_type": "code",
      "source": [
        "def find_max_element(arr):\n",
        "    # Base case: If the array has only one element, return it as the maximum\n",
        "    if len(arr) == 1:\n",
        "        return arr[0]\n",
        "    \n",
        "    # Recursive case: Divide the array into two halves and recursively find the maximum in each half\n",
        "    mid = len(arr) // 2\n",
        "    left_max = find_max_element(arr[:mid])\n",
        "    right_max = find_max_element(arr[mid:])\n",
        "    \n",
        "    # Compare the maximum of the left half and the maximum of the right half to find the overall maximum\n",
        "    return max(left_max, right_max)\n",
        "\n",
        "# Example usage\n",
        "array = [3, 9, 2, 5, 1, 7]\n",
        "result = find_max_element(array)\n",
        "print(result)  # Output: 9\n"
      ],
      "metadata": {
        "colab": {
          "base_uri": "https://localhost:8080/"
        },
        "id": "PuNaRCmCai7P",
        "outputId": "f7869470-9967-4422-f0b3-de7cb32091ee"
      },
      "execution_count": 6,
      "outputs": [
        {
          "output_type": "stream",
          "name": "stdout",
          "text": [
            "9\n"
          ]
        }
      ]
    },
    {
      "cell_type": "markdown",
      "source": [
        "\n",
        "💡 **Question 6**\n",
        "\n",
        "Given first term (a), common difference (d) and a integer N of the Arithmetic Progression series, the task is to find Nth term of the series.\n",
        "\n",
        "**Example 1:**\n",
        "\n",
        "Input : a = 2 d = 1 N = 5\n",
        "Output : 6\n",
        "The 5th term of the series is : 6\n",
        "\n",
        "**Example 2:**\n",
        "\n",
        "Input : a = 5 d = 2 N = 10\n",
        "Output : 23\n",
        "The 10th term of the series is : 23\n",
        "\n",
        "</aside>"
      ],
      "metadata": {
        "id": "gFQhQHKmZjZg"
      }
    },
    {
      "cell_type": "code",
      "source": [
        "def nth_term_of_ap(a, d, N):\n",
        "    nth_term = a + (N - 1) * d\n",
        "    return nth_term\n",
        "\n",
        "# Example usage\n",
        "first_term = 2\n",
        "common_difference = 3\n",
        "N = 5\n",
        "\n",
        "result = nth_term_of_ap(first_term, common_difference, N)\n",
        "print(result)  # Output: 14\n"
      ],
      "metadata": {
        "colab": {
          "base_uri": "https://localhost:8080/"
        },
        "id": "I7mGKMj7aT0Q",
        "outputId": "8fb31a5f-2af0-4947-c878-3474297b3a90"
      },
      "execution_count": 5,
      "outputs": [
        {
          "output_type": "stream",
          "name": "stdout",
          "text": [
            "14\n"
          ]
        }
      ]
    },
    {
      "cell_type": "markdown",
      "source": [
        "**Question 7**\n",
        "\n",
        "Given a string S, the task is to write a program to print all permutations of a given string.\n",
        "\n",
        "**Example 1:**\n",
        "\n",
        "***Input:***\n",
        "\n",
        "*S = “ABC”*\n",
        "\n",
        "***Output:***\n",
        "\n",
        "*“ABC”, “ACB”, “BAC”, “BCA”, “CBA”, “CAB”*\n",
        "\n",
        "**Example 2:**\n",
        "\n",
        "***Input:***\n",
        "\n",
        "*S = “XY”*\n",
        "\n",
        "***Output:***\n",
        "\n",
        "*“XY”, “YX”*\n",
        "\n",
        "</aside>"
      ],
      "metadata": {
        "id": "0Au5NidVZoFL"
      }
    },
    {
      "cell_type": "code",
      "source": [
        "def permute_string(string):\n",
        "    # Convert the string to a list of characters\n",
        "    chars = list(string)\n",
        "    n = len(chars)\n",
        "\n",
        "    # Helper function to swap characters at positions i and j\n",
        "    def swap(i, j):\n",
        "        chars[i], chars[j] = chars[j], chars[i]\n",
        "\n",
        "    # Recursive function to generate permutations\n",
        "    def generate_permutations(start):\n",
        "        if start == n - 1:\n",
        "            # Base case: reached the last character, so print the permutation\n",
        "            print(''.join(chars))\n",
        "        else:\n",
        "            # Generate permutations by swapping the current character with each character after it\n",
        "            for i in range(start, n):\n",
        "                swap(start, i)  # Swap the current character with the next character\n",
        "                generate_permutations(start + 1)  # Generate permutations for the remaining characters\n",
        "                swap(start, i)  # Revert the swap to restore the original order\n",
        "\n",
        "    # Call the recursive function to generate permutations, starting from index 0\n",
        "    generate_permutations(0)\n",
        "\n",
        "# Example usage\n",
        "string = \"MNP\"\n",
        "permute_string(string)\n"
      ],
      "metadata": {
        "colab": {
          "base_uri": "https://localhost:8080/"
        },
        "id": "-NqwnSxeaCBk",
        "outputId": "e6c78302-2433-4bed-c4fa-3b1f1fd15de3"
      },
      "execution_count": 4,
      "outputs": [
        {
          "output_type": "stream",
          "name": "stdout",
          "text": [
            "MNP\n",
            "MPN\n",
            "NMP\n",
            "NPM\n",
            "PNM\n",
            "PMN\n"
          ]
        }
      ]
    },
    {
      "cell_type": "markdown",
      "source": [
        "**Question 8**\n",
        "\n",
        "Given an array, find a product of all array elements.\n",
        "\n",
        "**Example 1:**\n",
        "\n",
        "Input  : arr[] = {1, 2, 3, 4, 5}\n",
        "Output : 120\n",
        "**Example 2:**\n",
        "\n",
        "Input  : arr[] = {1, 6, 3}\n",
        "Output : 18\n",
        "\n",
        "</aside>"
      ],
      "metadata": {
        "id": "1PN-sIbiZs9Z"
      }
    },
    {
      "cell_type": "code",
      "execution_count": 2,
      "metadata": {
        "colab": {
          "base_uri": "https://localhost:8080/"
        },
        "id": "TlwSYx-jYm8m",
        "outputId": "b9be5e26-0dfa-4426-ee99-206b98e21741"
      },
      "outputs": [
        {
          "output_type": "stream",
          "name": "stdout",
          "text": [
            "560\n"
          ]
        }
      ],
      "source": [
        "def product_of_array_elements(arr):\n",
        "    product = 1\n",
        "    for num in arr:\n",
        "        product *= num\n",
        "    return product\n",
        "\n",
        "# Example usage\n",
        "array = [2, 7, 8, 5]\n",
        "result = product_of_array_elements(array)\n",
        "print(result)  # Output: 120\n"
      ]
    },
    {
      "cell_type": "code",
      "source": [],
      "metadata": {
        "id": "caYinMfuYoos"
      },
      "execution_count": null,
      "outputs": []
    },
    {
      "cell_type": "code",
      "source": [],
      "metadata": {
        "id": "bLelAJGqYolu"
      },
      "execution_count": null,
      "outputs": []
    },
    {
      "cell_type": "code",
      "source": [],
      "metadata": {
        "id": "sLHspXGvYoeF"
      },
      "execution_count": null,
      "outputs": []
    }
  ]
}