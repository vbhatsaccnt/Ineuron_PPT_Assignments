{
  "nbformat": 4,
  "nbformat_minor": 0,
  "metadata": {
    "colab": {
      "provenance": []
    },
    "kernelspec": {
      "name": "python3",
      "display_name": "Python 3"
    },
    "language_info": {
      "name": "python"
    },
    "accelerator": "TPU"
  },
  "cells": [
    {
      "cell_type": "markdown",
      "source": [
        "<aside>\n",
        "💡 Question 1\n",
        "\n",
        "A permutation perm of n + 1 integers of all the integers in the range [0, n] can be represented as a string s of length n where:\n",
        "\n",
        "- s[i] == 'I' if perm[i] < perm[i + 1], and\n",
        "- s[i] == 'D' if perm[i] > perm[i + 1].\n",
        "\n",
        "Given a string s, reconstruct the permutation perm and return it. If there are multiple valid permutations perm, return **any of them**.\n",
        "\n",
        "**Example 1:**\n",
        "\n",
        "**Input:** s = \"IDID\"\n",
        "\n",
        "**Output:**\n",
        "\n",
        "[0,4,1,3,2]\n",
        "\n",
        "</aside>"
      ],
      "metadata": {
        "id": "24oU98MsRGHX"
      }
    },
    {
      "cell_type": "code",
      "source": [
        "def reconstruct_permutation(s):\n",
        "    n = len(s)\n",
        "    perm = []\n",
        "    low, high = 0, n\n",
        "\n",
        "    for c in s:\n",
        "        if c == 'I':\n",
        "            perm.append(low)\n",
        "            low += 1\n",
        "        elif c == 'D':\n",
        "            perm.append(high)\n",
        "            high -= 1\n",
        "    \n",
        "    perm.append(low)\n",
        "\n",
        "    return perm\n"
      ],
      "metadata": {
        "id": "uXt3helqiVWj"
      },
      "execution_count": 1,
      "outputs": []
    },
    {
      "cell_type": "code",
      "source": [
        "s = \"III\"\n",
        "print(reconstruct_permutation(s))\n"
      ],
      "metadata": {
        "colab": {
          "base_uri": "https://localhost:8080/"
        },
        "id": "aXX_-skjRBNy",
        "outputId": "dca4f928-0a6b-4c70-8b73-3226c6ad7926"
      },
      "execution_count": 3,
      "outputs": [
        {
          "output_type": "stream",
          "name": "stdout",
          "text": [
            "[0, 1, 2, 3]\n"
          ]
        }
      ]
    },
    {
      "cell_type": "markdown",
      "source": [
        "<aside>\n",
        "💡 Question 2\n",
        "\n",
        "You are given an m x n integer matrix matrix with the following two properties:\n",
        "\n",
        "- Each row is sorted in non-decreasing order.\n",
        "- The first integer of each row is greater than the last integer of the previous row.\n",
        "\n",
        "Given an integer target, return true *if* target *is in* matrix *or* false *otherwise*.\n",
        "\n",
        "You must write a solution in O(log(m * n)) time complexity.\n",
        "\n",
        "</aside>"
      ],
      "metadata": {
        "id": "AG4sx18tT1wX"
      }
    },
    {
      "cell_type": "code",
      "source": [
        "def search_matrix(matrix, target):\n",
        "    if not matrix or not matrix[0]:\n",
        "        return False\n",
        "\n",
        "    m, n = len(matrix), len(matrix[0])\n",
        "    start, end = 0, m * n - 1\n",
        "\n",
        "    while start <= end:\n",
        "        mid = (start + end) // 2\n",
        "        row = mid // n\n",
        "        col = mid % n\n",
        "\n",
        "        if matrix[row][col] == target:\n",
        "            return True\n",
        "        elif matrix[row][col] < target:\n",
        "            start = mid + 1\n",
        "        else:\n",
        "            end = mid - 1\n",
        "\n",
        "    return False\n"
      ],
      "metadata": {
        "id": "mz6kz8UpRBLY"
      },
      "execution_count": 4,
      "outputs": []
    },
    {
      "cell_type": "code",
      "source": [
        "matrix = [\n",
        "    [1, 3, 5, 7],\n",
        "    [10, 11, 16, 20],\n",
        "    [23, 30, 34, 60]\n",
        "]\n",
        "target = 16\n",
        "\n",
        "print(search_matrix(matrix, target))\n"
      ],
      "metadata": {
        "colab": {
          "base_uri": "https://localhost:8080/"
        },
        "id": "i3YV28mqRBJE",
        "outputId": "a6d4fa73-8d98-41a3-c9cc-a183d5da57fc"
      },
      "execution_count": 5,
      "outputs": [
        {
          "output_type": "stream",
          "name": "stdout",
          "text": [
            "True\n"
          ]
        }
      ]
    },
    {
      "cell_type": "markdown",
      "source": [
        "<aside>\n",
        "💡 **Question 3**\n",
        "\n",
        "Given an array of integers arr, return *true if and only if it is a valid mountain array*.\n",
        "\n",
        "Recall that arr is a mountain array if and only if:\n",
        "\n",
        "- arr.length >= 3\n",
        "- There exists some i with 0 < i < arr.length - 1 such that:\n",
        "    - arr[0] < arr[1] < ... < arr[i - 1] < arr[i]\n",
        "    - arr[i] > arr[i + 1] > ... > arr[arr.length - 1]\n",
        "</aside>\n",
        "\n"
      ],
      "metadata": {
        "id": "iKoB3qQsV3d4"
      }
    },
    {
      "cell_type": "code",
      "source": [
        "def valid_mountain_array(arr):\n",
        "    if len(arr) < 3:\n",
        "        return False\n",
        "\n",
        "    i = 0\n",
        "    while i + 1 < len(arr) and arr[i] < arr[i + 1]:\n",
        "        i += 1\n",
        "\n",
        "    if i == 0 or i == len(arr) - 1:\n",
        "        return False\n",
        "\n",
        "    while i + 1 < len(arr) and arr[i] > arr[i + 1]:\n",
        "        i += 1\n",
        "\n",
        "    return i == len(arr) - 1\n"
      ],
      "metadata": {
        "id": "QR-ObuxaRBGk"
      },
      "execution_count": 6,
      "outputs": []
    },
    {
      "cell_type": "code",
      "source": [
        "arr = [2, 5,6,8,5,4,2]\n",
        "print(valid_mountain_array(arr))\n"
      ],
      "metadata": {
        "colab": {
          "base_uri": "https://localhost:8080/"
        },
        "id": "WZgsSFOXRBDr",
        "outputId": "61332553-6583-44f6-e552-9acb7537f274"
      },
      "execution_count": 7,
      "outputs": [
        {
          "output_type": "stream",
          "name": "stdout",
          "text": [
            "True\n"
          ]
        }
      ]
    },
    {
      "cell_type": "markdown",
      "source": [
        "<aside>\n",
        "💡 **Question 4**\n",
        "\n",
        "Given a binary array nums, return *the maximum length of a contiguous subarray with an equal number of* 0 *and* 1.\n",
        "\n",
        "**Example 1:**\n",
        "\n",
        "**Input:** nums = [0,1]\n",
        "\n",
        "**Output:** 2\n",
        "\n",
        "**Explanation:**\n",
        "\n",
        "[0, 1] is the longest contiguous subarray with an equal number of 0 and 1.\n",
        "\n",
        "</aside>"
      ],
      "metadata": {
        "id": "NVKPu6npW9Hz"
      }
    },
    {
      "cell_type": "code",
      "source": [
        "def find_max_length(nums):\n",
        "    max_length = 0\n",
        "    count = 0\n",
        "    count_map = {0: -1}\n",
        "\n",
        "    for i, num in enumerate(nums):\n",
        "        count += 1 if num == 1 else -1\n",
        "\n",
        "        if count in count_map:\n",
        "            max_length = max(max_length, i - count_map[count])\n",
        "        else:\n",
        "            count_map[count] = i\n",
        "\n",
        "    return max_length\n"
      ],
      "metadata": {
        "id": "q-iH41G-VELF"
      },
      "execution_count": 8,
      "outputs": []
    },
    {
      "cell_type": "code",
      "source": [
        "nums = [0, 1, 0, 1, 0, 1, 1, 1, 0]\n",
        "print(find_max_length(nums))\n"
      ],
      "metadata": {
        "colab": {
          "base_uri": "https://localhost:8080/"
        },
        "id": "Kba8_mQnVEFQ",
        "outputId": "0f285f08-e69f-4373-a360-62137eca4b73"
      },
      "execution_count": 9,
      "outputs": [
        {
          "output_type": "stream",
          "name": "stdout",
          "text": [
            "6\n"
          ]
        }
      ]
    },
    {
      "cell_type": "markdown",
      "source": [
        "<aside>\n",
        "💡 **Question 5**\n",
        "\n",
        "The **product sum** of two equal-length arrays a and b is equal to the sum of a[i] * b[i] for all 0 <= i < a.length (**0-indexed**).\n",
        "\n",
        "- For example, if a = [1,2,3,4] and b = [5,2,3,1], the **product sum** would be 1*5 + 2*2 + 3*3 + 4*1 = 22.\n",
        "\n",
        "Given two arrays nums1 and nums2 of length n, return *the **minimum product sum** if you are allowed to **rearrange** the **order** of the elements in* nums1.\n",
        "\n",
        "**Example 1:**\n",
        "\n",
        "**Input:** nums1 = [5,3,4,2], nums2 = [4,2,2,5]\n",
        "\n",
        "**Output:** 40\n",
        "\n",
        "**Explanation:**\n",
        "\n",
        "We can rearrange nums1 to become [3,5,4,2]. The product sum of [3,5,4,2] and [4,2,2,5] is 3*4 + 5*2 + 4*2 + 2*5 = 40.\n",
        "\n",
        "</aside>"
      ],
      "metadata": {
        "id": "XfViLS35Xdih"
      }
    },
    {
      "cell_type": "code",
      "source": [
        "def min_product_sum(nums1, nums2):\n",
        "    nums1.sort()\n",
        "    nums2.sort(reverse=True)\n",
        "    min_product_sum = 0\n",
        "\n",
        "    for i in range(len(nums1)):\n",
        "        min_product_sum += nums1[i] * nums2[i]\n",
        "\n",
        "    return min_product_sum\n"
      ],
      "metadata": {
        "id": "btl46RNbXXWS"
      },
      "execution_count": 10,
      "outputs": []
    },
    {
      "cell_type": "code",
      "source": [
        "nums1 = [1, 2, 3, 4]\n",
        "nums2 = [5, 2, 3, 2]\n",
        "print(min_product_sum(nums1, nums2))\n"
      ],
      "metadata": {
        "colab": {
          "base_uri": "https://localhost:8080/"
        },
        "id": "1UodlwOCXXTN",
        "outputId": "a1ee8cb7-a110-42e6-d3f1-30d48993bb58"
      },
      "execution_count": 14,
      "outputs": [
        {
          "output_type": "stream",
          "name": "stdout",
          "text": [
            "25\n"
          ]
        }
      ]
    },
    {
      "cell_type": "markdown",
      "source": [
        "<aside>\n",
        "💡 **Question 6**\n",
        "\n",
        "An integer array original is transformed into a **doubled** array changed by appending **twice the value** of every element in original, and then randomly **shuffling** the resulting array.\n",
        "\n",
        "Given an array changed, return original *if* changed *is a **doubled** array. If* changed *is not a **doubled** array, return an empty array. The elements in* original *may be returned in **any** order*.\n",
        "\n",
        "**Example 1:**\n",
        "\n",
        "**Input:** changed = [1,3,4,2,6,8]\n",
        "\n",
        "**Output:** [1,3,4]\n",
        "\n",
        "**Explanation:** One possible original array could be [1,3,4]:\n",
        "\n",
        "- Twice the value of 1 is 1 * 2 = 2.\n",
        "- Twice the value of 3 is 3 * 2 = 6.\n",
        "- Twice the value of 4 is 4 * 2 = 8.\n",
        "\n",
        "Other original arrays could be [4,3,1] or [3,1,4].\n",
        "\n",
        "</aside>"
      ],
      "metadata": {
        "id": "c9g2ttiJY0rX"
      }
    },
    {
      "cell_type": "code",
      "source": [
        "def find_original_array(changed):\n",
        "    count_map = {}\n",
        "    for num in changed:\n",
        "        if num % 2 != 0 or num // 2 not in count_map or count_map[num // 2] == 0:\n",
        "            return []\n",
        "        count_map[num // 2] -= 1\n",
        "    original = []\n",
        "    for num in changed:\n",
        "        original.append(num // 2)\n",
        "    return original\n"
      ],
      "metadata": {
        "id": "a3r3ZahNY1h8"
      },
      "execution_count": 15,
      "outputs": []
    },
    {
      "cell_type": "code",
      "source": [
        "changed = [2, 6, 4, 10, 8, 14]\n",
        "print(find_original_array(changed))\n"
      ],
      "metadata": {
        "colab": {
          "base_uri": "https://localhost:8080/"
        },
        "id": "IRlW5F3lXXPl",
        "outputId": "7fb28ce8-c1fc-4440-9dba-12969f6bfde6"
      },
      "execution_count": 16,
      "outputs": [
        {
          "output_type": "stream",
          "name": "stdout",
          "text": [
            "[]\n"
          ]
        }
      ]
    },
    {
      "cell_type": "markdown",
      "source": [
        "<aside>\n",
        "💡 **Question 7**\n",
        "\n",
        "Given a positive integer n, generate an n x n matrix filled with elements from 1 to n2 in spiral order.\n",
        "\n",
        "**Example 1:**\n",
        "\n",
        "</aside> ![image.png]"
      ],
      "metadata": {
        "id": "zE2xQYY2ZWrd"
      }
    },
    {
      "cell_type": "code",
      "source": [
        "def generate_spiral_matrix(n):\n",
        "    matrix = [[0] * n for _ in range(n)]\n",
        "    row_start = 0\n",
        "    row_end = n - 1\n",
        "    col_start = 0\n",
        "    col_end = n - 1\n",
        "    num = 1\n",
        "\n",
        "    while num <= n * n:\n",
        "        for j in range(col_start, col_end + 1):\n",
        "            matrix[row_start][j] = num\n",
        "            num += 1\n",
        "        row_start += 1\n",
        "\n",
        "        for i in range(row_start, row_end + 1):\n",
        "            matrix[i][col_end] = num\n",
        "            num += 1\n",
        "        col_end -= 1\n",
        "\n",
        "        for j in range(col_end, col_start - 1, -1):\n",
        "            matrix[row_end][j] = num\n",
        "            num += 1\n",
        "        row_end -= 1\n",
        "\n",
        "        for i in range(row_end, row_start - 1, -1):\n",
        "            matrix[i][col_start] = num\n",
        "            num += 1\n",
        "        col_start += 1\n",
        "\n",
        "    return matrix\n"
      ],
      "metadata": {
        "id": "KcQyLtm3ZLVV"
      },
      "execution_count": 20,
      "outputs": []
    },
    {
      "cell_type": "code",
      "source": [
        "n = 4\n",
        "result = generate_spiral_matrix(n)\n",
        "for row in result:\n",
        "    print(row)\n"
      ],
      "metadata": {
        "colab": {
          "base_uri": "https://localhost:8080/"
        },
        "id": "xr1DPocgXXL4",
        "outputId": "4087394a-3693-4810-f53a-56fb75861700"
      },
      "execution_count": 21,
      "outputs": [
        {
          "output_type": "stream",
          "name": "stdout",
          "text": [
            "[1, 2, 3, 4]\n",
            "[12, 13, 14, 5]\n",
            "[11, 16, 15, 6]\n",
            "[10, 9, 8, 7]\n"
          ]
        }
      ]
    },
    {
      "cell_type": "markdown",
      "source": [
        "<aside>\n",
        "💡 **Question 8**\n",
        "\n",
        "Given two [sparse matrices](https://en.wikipedia.org/wiki/Sparse_matrix) mat1 of size m x k and mat2 of size k x n, return the result of mat1 x mat2. You may assume that multiplication is always possible.\n",
        "\n",
        "**Example 1:**\n",
        "\n",
        "</aside>\n",
        "**Input:** mat1 = [[1,0,0],[-1,0,3]], mat2 = [[7,0,0],[0,0,0],[0,0,1]]\n",
        "\n",
        "**Output:**\n",
        "\n",
        "[[7,0,0],[-7,0,3]]"
      ],
      "metadata": {
        "id": "atGUiRoFabwz"
      }
    },
    {
      "cell_type": "code",
      "source": [
        "def multiply_sparse_matrices(mat1, mat2):\n",
        "    m, k = len(mat1), len(mat1[0])\n",
        "    k, n = len(mat2), len(mat2[0])\n",
        "\n",
        "    mat2_transpose = [[mat2[j][i] for j in range(k)] for i in range(n)]\n",
        "\n",
        "    result = [[0] * n for _ in range(m)]\n",
        "\n",
        "    for i in range(m):\n",
        "        for j in range(n):\n",
        "            dot_product = 0\n",
        "            for index in range(k):\n",
        "                if mat1[i][index] != 0 and mat2_transpose[j][index] != 0:\n",
        "                    dot_product += mat1[i][index] * mat2_transpose[j][index]\n",
        "            result[i][j] = dot_product\n",
        "\n",
        "    return result\n"
      ],
      "metadata": {
        "id": "xd9r5hbBaJSH"
      },
      "execution_count": 22,
      "outputs": []
    },
    {
      "cell_type": "code",
      "source": [
        "mat1 = [[1, 0, 0], [-1, 0, 3]]\n",
        "mat2 = [[7, 0, 0], [0, 0, 0], [0, 0, 1]]\n",
        "result = multiply_sparse_matrices(mat1, mat2)\n",
        "for row in result:\n",
        "    print(row)\n"
      ],
      "metadata": {
        "colab": {
          "base_uri": "https://localhost:8080/"
        },
        "id": "bEtVHqUtaJPA",
        "outputId": "79f04093-e7d0-40dd-9f85-eaef6f259c40"
      },
      "execution_count": 23,
      "outputs": [
        {
          "output_type": "stream",
          "name": "stdout",
          "text": [
            "[7, 0, 0]\n",
            "[-7, 0, 3]\n"
          ]
        }
      ]
    },
    {
      "cell_type": "code",
      "source": [],
      "metadata": {
        "id": "b5CidGu9az_y"
      },
      "execution_count": null,
      "outputs": []
    },
    {
      "cell_type": "code",
      "source": [],
      "metadata": {
        "id": "gwUDNSQMaz8a"
      },
      "execution_count": null,
      "outputs": []
    }
  ]
}